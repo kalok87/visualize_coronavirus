{
 "cells": [
  {
   "cell_type": "markdown",
   "metadata": {},
   "source": [
    "<h1><center>Assignment 2</center></h1>"
   ]
  },
  {
   "cell_type": "markdown",
   "metadata": {},
   "source": [
    "**Name**: Kam, Ka Lok\n",
    "\n",
    "**Colaborator**: Ho, Koon Leong"
   ]
  },
  {
   "cell_type": "markdown",
   "metadata": {},
   "source": [
    "## Visualization Technique (20%)"
   ]
  },
  {
   "cell_type": "markdown",
   "metadata": {},
   "source": [
    "### A narrative description of the visualization you are planning to use, describing how it works(10%)"
   ]
  },
  {
   "cell_type": "markdown",
   "metadata": {},
   "source": [
    "In this exercise, I am planning to use bar charts and maps to demonstrate the current status of coronavirus. especially the number of deaths, the number of patients and the number of recovered people. There are mainly two types of information that should be encoded, one is the number of patients, another one is the corresponding country. The first one is a quantitative variable and the second one is the nominal variable.\n",
    "\n",
    "According to **The Mackinlay ranking of perceptual task**, a nice option to encode these two variables is to use bar chart because we can use one axis to encode the nominal variable and another axis to encode the quantitative variable. According to Steven's power law, comparing things in length will give the most accurate result. \n",
    "\n",
    "Therefore, when we want to compare the quantities, the bar chart should be the primary choice. In this task, the quantity we need to encode is the number of patients in each country, and it depicts the severity of coronavirus in the corresponding country. By comparing the quantities in different countries, we could gain an overview of the current status of coronavirus. "
   ]
  },
  {
   "cell_type": "markdown",
   "metadata": {},
   "source": [
    "### A discussion of in which circumstances this visualization should and should not be used (what is it close to? What else could you consider? How does it relate to specific aspects of data? (10%)"
   ]
  },
  {
   "cell_type": "markdown",
   "metadata": {},
   "source": [
    "As mentioned above, the bar chart is useful when we want to encode a quantitative variable and a nominal variable. Putting bars side by side will give us the most accurate result of the comparison. But we could also use it when we want to encode a quantitative variable and an ordinal variable. One example for it is the histogram where the y-axis demonstrates the counts or probability densities, and the x-axis interprets the intervals of data. Therefore, when we are doing a random experiment, the bar chart is almost always applied to explore the experimental data.\n",
    "\n",
    "Also, when the nominal variable or the ordinal variable could be categorized into several sets, a stacked bar chart is suitable, which nicely illustrate the inner structure of the data. (See the figure below [1])\n",
    "\n",
    "![image](./asset/fig_1.png)\n",
    "\n",
    "Of course, the bar char is not the jack of all trades in the field of data visualization. It has limits. For example, when we want to encode two quantitative variables (like the price and the area of the houses), the bar chart should not be applied. Otherwise, the objects we need to compare in the figure are not the lengths of bars, but the areas of them. According to The Mackinlay ranking of the perceptual task, comparing areas is not very accurate."
   ]
  },
  {
   "cell_type": "markdown",
   "metadata": {},
   "source": [
    "## Visualization Library (20%)"
   ]
  },
  {
   "cell_type": "markdown",
   "metadata": {},
   "source": [
    "### The library you are going to use, and a background on why the library is good for this visualization. Who created it? Is it open source? How do you install it? (10%)"
   ]
  },
  {
   "cell_type": "markdown",
   "metadata": {},
   "source": [
    "The library I want to use for the task is called **Altair** which is based on a library in Java called **Vega**. It is a user-friendly library because it can directly read the data from Pandas data-frame and process the data to plot the figures. Since it is a declarative statistical visualization library for Python, it is more intuitive than other Plotting libraries such as Matplotlib. Also the figures created by it is more beautiful than other visualization packages of Python.\n",
    "\n",
    "The creator of this library is **Jake VanderPlas** who is a data scientist and Software Engineer in Google. He has invented many open source packages for data science such as Altair, AstroML, Scikit-Learn, etc.\n",
    "\n",
    "The installation process is simple:\n",
    "- For pip user: `pip install altair vega_datasets`\n",
    "- For conda user: `conda install -c conda-forge altair vega_datasets`\n",
    "- For other option, please [Click here](https://altair-viz.github.io/getting_started/installation.html)"
   ]
  },
  {
   "cell_type": "markdown",
   "metadata": {},
   "source": [
    "### A discussion of the general approach and limitations of this library. Is it declarative or procedural? Does it integrate with Jupyter? Why you decided to use this library (especially if there are other options)? (10%)"
   ]
  },
  {
   "cell_type": "markdown",
   "metadata": {},
   "source": [
    "The very first thing we need to do is data cleaning such as dealing with the missing data, removing unnecessary columns and transforming the data (wide format to long format). After that, we need to define the type of plot that will be used. Some plots that are commonly used are line graph, scatter plot, bar chart, stacked area graph and box plot. After defining the type, the only thing that we need to do is putting the variables and the corresponding data properties (quantitative, ordinal or nominal) into axes. Some refinements can be made after that for improving readability and effectiveness. \n",
    "\n",
    "Altair has some downsides:\n",
    "1. It has limited customization options. Unlike Matplotlib, all types of the plot are predefined in the library of Altair, you can only choose one of them to perform visualization. For example, there is no option of using pie chart in Altair, and users cannot do much about it.\n",
    "2. The power of processing data is limited. I don't know why, but Altair cannot handle the data frames which have more than 5000 rows. This is a serious downside because in the period of big data people often need to deal with data in PB which is certainly not suitable for Altair. \n",
    "\n",
    "But I still prefer Altair especially when I only need to visualize small amounts of data in the spreadsheets, because **it is a declarative and it integrates with Jupyter nicely**. Although there are many other visualization libraries available for Python such as Matplotlib, Bokeh, Seaborn, etc., I still choose Altair to perform this task simply because:\n",
    "- It is declarative, users don't need to define what to do at each step. The only thing that users need to do is mapping the properties of data to visual aesthetics.\n",
    "- Its philosophy aligns well with the principles mentioned by Mackinlay. \n",
    "- Having fewer customization options also could be an advantage because you really don't need extra works if the figure can be nicely done within a few steps."
   ]
  },
  {
   "cell_type": "markdown",
   "metadata": {},
   "source": [
    "## Demonstration (60%)"
   ]
  },
  {
   "cell_type": "markdown",
   "metadata": {},
   "source": [
    "### The dataset you picked and instructions for cleaning the dataset. You should pick a suitable dataset to demonstrate the technique, toolkit, and problem you are facing. (10%)"
   ]
  },
  {
   "cell_type": "markdown",
   "metadata": {},
   "source": [
    "The assignment contains 3 parts:\n",
    "1. In the first section, I want to show how the severity of coronavirus evolves in time in Wuhan. The daily new cases number is a measurement to depict the severity of the virus. For this task, the dataset obtained from the HK Government Data Center ([click here](https://data.gov.hk/en-data/dataset/hk-dh-chpsebcddr-novel-infectious-agent)). The data I use contains the cases numbers in each province in China from 11.01.2020 to 07.03.2020. The explicit data processing cycle will be described in the following cells.\n",
    "\n",
    "\n",
    "2. In the second section, I want to focus on the statistical data about the virus around the world to give the audience an overview of its current status. Because the current status is considered to be pandemic, descriptive statistics is useful. For this task, I use the data shown at [here](https://www.worldometers.info/coronavirus/).\n",
    "\n",
    "\n",
    "3. In the final section, I want to use a map to demonstrate the current numbers of patients in every province in Mainland China. The data provided by [Johns Hopkins Coronavirus Resource Center](https://coronavirus.jhu.edu/map.html) is used for the report. The data offered by JHU gives the total number of patients in each province in China, and it is suitable for the task of giving information about the latest updates on the coronavirus in China.\n",
    "\n",
    "\n",
    "The processes of data cleaning and processing will be demonstrated in the following sections."
   ]
  },
  {
   "cell_type": "markdown",
   "metadata": {},
   "source": [
    "## The necessary libraries"
   ]
  },
  {
   "cell_type": "markdown",
   "metadata": {},
   "source": [
    "Before the assignment, please make sure that you have the following packages installed in your computer.\n",
    "1. numpy `pip install numpy`\n",
    "2. Lxml `pip install lxml`\n",
    "3. Altair `pip install altair vega_datasets`\n",
    "4. html5lib `pip install html5lib`"
   ]
  },
  {
   "cell_type": "code",
   "execution_count": 18,
   "metadata": {},
   "outputs": [],
   "source": [
    "import altair as alt\n",
    "import pandas as pd\n",
    "import numpy as np"
   ]
  },
  {
   "cell_type": "markdown",
   "metadata": {},
   "source": [
    "<h1><center>Coronavirus: its evolution and current statistics</center></h1>"
   ]
  },
  {
   "cell_type": "markdown",
   "metadata": {},
   "source": [
    "## What happened in Wuhan?"
   ]
  },
  {
   "cell_type": "markdown",
   "metadata": {},
   "source": [
    "On 31.12.2019,  a cluster of pneumonia cases was reported by health authorities in Wuhan. Totally 27 cases were reported, 7cases among them are critical. But the cause was unknown. \"No evidence of human to human transmission\", they announced.\n",
    "\n",
    "On 03.01.2020, the total number of infected people was updated to 44 cases, 11 among them were critical, according to health authorities in Wuhan.\n",
    "\n",
    "The number of patients kept being updated daily until 05.01.2020. The total number at the time was 59, and 9 among them were critical.\n",
    "\n",
    "On 11.01.2020, Health authorities in Wuhan announced that most patients are linked to the Huanan Seafood Wholesale Market. The number of patients was confirmed to be 41 with 18 false cases detected, among them, 1 died and 2 recovered.\n",
    "\n",
    "From 11.01.2020 to 17.01.2020, the number was frozen at 41. Coincidentally, Lianghui, the local parliament session, was held between 06.01 to 17.01.\n",
    "\n",
    "On 15.01.2020, Wuhan's Municipal Health Commission (MHC) stated in the website, \"the result of present investigation shows no clear evidence of human-to-human transmission, but this does not rule out the possibility of such a transmission. The risk of continuous human-to-human transmission is low.\"\n",
    "\n",
    "On 20.01.2020, the number of reported new cases increased to 136. Major cities in China such as Beijing and Shenzhen also reported their first cases.[2] On the same day, Dr Nanshan Zhong, a Chinese epidemiologist who gained international fame for fighting the outbreak of the SARS, gave an example of human-to-human transmission of the new coronavirus by showing two infected familial clusters in Guangdong whose members had been to Wuhan before.\n",
    "\n",
    "23.01.2020, Wuhan city was locked down..."
   ]
  },
  {
   "cell_type": "markdown",
   "metadata": {},
   "source": [
    "### Processing the data\n",
    "To understand what happened in Wuhan, especially how policies affected the \"shown\" data, it is useful to have a time series of daily new cases which can probably help us to understand severity of the coronavirus. Firstly, we need to load the data which includes the number of new cases in China from 11.01.2020 to 07.03.2020."
   ]
  },
  {
   "cell_type": "code",
   "execution_count": 19,
   "metadata": {},
   "outputs": [
    {
     "data": {
      "text/html": [
       "<div>\n",
       "<style scoped>\n",
       "    .dataframe tbody tr th:only-of-type {\n",
       "        vertical-align: middle;\n",
       "    }\n",
       "\n",
       "    .dataframe tbody tr th {\n",
       "        vertical-align: top;\n",
       "    }\n",
       "\n",
       "    .dataframe thead th {\n",
       "        text-align: right;\n",
       "    }\n",
       "</style>\n",
       "<table border=\"1\" class=\"dataframe\">\n",
       "  <thead>\n",
       "    <tr style=\"text-align: right;\">\n",
       "      <th></th>\n",
       "      <th>As of date</th>\n",
       "      <th>As of time</th>\n",
       "      <th>Mainland China</th>\n",
       "      <th>Number of reported/confirmed cases</th>\n",
       "      <th>Number of deaths</th>\n",
       "      <th>Remark</th>\n",
       "    </tr>\n",
       "  </thead>\n",
       "  <tbody>\n",
       "    <tr>\n",
       "      <th>0</th>\n",
       "      <td>11/01/2020</td>\n",
       "      <td>23:59</td>\n",
       "      <td>Hubei</td>\n",
       "      <td>41</td>\n",
       "      <td>NaN</td>\n",
       "      <td>NaN</td>\n",
       "    </tr>\n",
       "    <tr>\n",
       "      <th>1</th>\n",
       "      <td>12/01/2020</td>\n",
       "      <td>23:59</td>\n",
       "      <td>Hubei</td>\n",
       "      <td>41</td>\n",
       "      <td>NaN</td>\n",
       "      <td>NaN</td>\n",
       "    </tr>\n",
       "    <tr>\n",
       "      <th>2</th>\n",
       "      <td>13/01/2020</td>\n",
       "      <td>23:59</td>\n",
       "      <td>Hubei</td>\n",
       "      <td>41</td>\n",
       "      <td>NaN</td>\n",
       "      <td>NaN</td>\n",
       "    </tr>\n",
       "    <tr>\n",
       "      <th>3</th>\n",
       "      <td>15/01/2020</td>\n",
       "      <td>23:59</td>\n",
       "      <td>Hubei</td>\n",
       "      <td>41</td>\n",
       "      <td>NaN</td>\n",
       "      <td>NaN</td>\n",
       "    </tr>\n",
       "    <tr>\n",
       "      <th>4</th>\n",
       "      <td>16/01/2020</td>\n",
       "      <td>23:59</td>\n",
       "      <td>Hubei</td>\n",
       "      <td>45</td>\n",
       "      <td>NaN</td>\n",
       "      <td>NaN</td>\n",
       "    </tr>\n",
       "    <tr>\n",
       "      <th>5</th>\n",
       "      <td>17/01/2020</td>\n",
       "      <td>23:59</td>\n",
       "      <td>Hubei</td>\n",
       "      <td>62</td>\n",
       "      <td>NaN</td>\n",
       "      <td>NaN</td>\n",
       "    </tr>\n",
       "    <tr>\n",
       "      <th>6</th>\n",
       "      <td>19/01/2020</td>\n",
       "      <td>23:59</td>\n",
       "      <td>Hubei</td>\n",
       "      <td>198</td>\n",
       "      <td>NaN</td>\n",
       "      <td>NaN</td>\n",
       "    </tr>\n",
       "    <tr>\n",
       "      <th>7</th>\n",
       "      <td>20/01/2020</td>\n",
       "      <td>18:00</td>\n",
       "      <td>Guangdong</td>\n",
       "      <td>14</td>\n",
       "      <td>NaN</td>\n",
       "      <td>NaN</td>\n",
       "    </tr>\n",
       "    <tr>\n",
       "      <th>8</th>\n",
       "      <td>20/01/2020</td>\n",
       "      <td>18:00</td>\n",
       "      <td>Beijing</td>\n",
       "      <td>5</td>\n",
       "      <td>NaN</td>\n",
       "      <td>NaN</td>\n",
       "    </tr>\n",
       "    <tr>\n",
       "      <th>9</th>\n",
       "      <td>20/01/2020</td>\n",
       "      <td>18:00</td>\n",
       "      <td>Shanghai</td>\n",
       "      <td>1</td>\n",
       "      <td>NaN</td>\n",
       "      <td>NaN</td>\n",
       "    </tr>\n",
       "  </tbody>\n",
       "</table>\n",
       "</div>"
      ],
      "text/plain": [
       "   As of date As of time Mainland China  Number of reported/confirmed cases  \\\n",
       "0  11/01/2020      23:59          Hubei                                  41   \n",
       "1  12/01/2020      23:59          Hubei                                  41   \n",
       "2  13/01/2020      23:59          Hubei                                  41   \n",
       "3  15/01/2020      23:59          Hubei                                  41   \n",
       "4  16/01/2020      23:59          Hubei                                  45   \n",
       "5  17/01/2020      23:59          Hubei                                  62   \n",
       "6  19/01/2020      23:59          Hubei                                 198   \n",
       "7  20/01/2020      18:00      Guangdong                                  14   \n",
       "8  20/01/2020      18:00        Beijing                                   5   \n",
       "9  20/01/2020      18:00       Shanghai                                   1   \n",
       "\n",
       "   Number of deaths  Remark  \n",
       "0               NaN     NaN  \n",
       "1               NaN     NaN  \n",
       "2               NaN     NaN  \n",
       "3               NaN     NaN  \n",
       "4               NaN     NaN  \n",
       "5               NaN     NaN  \n",
       "6               NaN     NaN  \n",
       "7               NaN     NaN  \n",
       "8               NaN     NaN  \n",
       "9               NaN     NaN  "
      ]
     },
     "execution_count": 19,
     "metadata": {},
     "output_type": "execute_result"
    }
   ],
   "source": [
    "# download the date from data.gov.hk\n",
    "daily = pd.read_csv('./asset/areas_in_mainland_china_have_reported_cases_eng.csv')\n",
    "daily.head(10)"
   ]
  },
  {
   "cell_type": "markdown",
   "metadata": {},
   "source": [
    "### Extract information of Wuhan\n",
    "The city Wuhan, which is the origin of the outbreak, has the greatest number of patients. By analyzing the data in Wuhan, a broad picture of how the disease evolved in China could be obtained. Therefore, the next step is to extract the data of Wuhan."
   ]
  },
  {
   "cell_type": "code",
   "execution_count": 20,
   "metadata": {},
   "outputs": [],
   "source": [
    "#  convert the datatype of column [As of date] to time-format, and set it as the index\n",
    "daily['date'] = pd.to_datetime(daily['As of date'], format='%d/%m/%Y')\n",
    "daily.drop(columns = ['As of date'], inplace = True)\n",
    "daily.set_index('date', inplace = True)\n",
    "\n",
    "# clean the missing data.\n",
    "daily_hubei = daily[ (daily['As of time'] == '23:59') ]\n",
    "daily_hubei = daily_hubei.fillna( value = {'Number of deaths' : 0})\n",
    "daily_hubei = daily_hubei.drop(columns = ['Remark', 'As of time', 'Mainland China'])\n",
    "\n",
    "# construct long-form\n",
    "daily_hubei.rename(columns = {'Number of reported/confirmed cases' : 'Reported cases'}, inplace = True)\n",
    "daily_hubei = daily_hubei.T\n",
    "\n",
    "# take out needed columns [time] and [number of patients]. Construct a column which contains the number of daily new cases.\n",
    "time = daily_hubei.columns[1:-1]\n",
    "value_current = daily_hubei.iloc[0, 1:-1].to_list()\n",
    "value_yesterday = daily_hubei.iloc[0, 0:-2].to_list()\n",
    "new_case = [value_current[n] - value_yesterday[n] for n in range(len(value_current))]\n",
    "\n",
    "hubei_new = pd.DataFrame({ 'date': time, 'daily new case': new_case})"
   ]
  },
  {
   "cell_type": "code",
   "execution_count": 21,
   "metadata": {},
   "outputs": [
    {
     "data": {
      "text/html": [
       "\n",
       "<div id=\"altair-viz-b7b2462646ba4334baefc1a50afd9e9e\"></div>\n",
       "<script type=\"text/javascript\">\n",
       "  (function(spec, embedOpt){\n",
       "    const outputDiv = document.getElementById(\"altair-viz-b7b2462646ba4334baefc1a50afd9e9e\");\n",
       "    const paths = {\n",
       "      \"vega\": \"https://cdn.jsdelivr.net/npm//vega@5?noext\",\n",
       "      \"vega-lib\": \"https://cdn.jsdelivr.net/npm//vega-lib?noext\",\n",
       "      \"vega-lite\": \"https://cdn.jsdelivr.net/npm//vega-lite@4.0.2?noext\",\n",
       "      \"vega-embed\": \"https://cdn.jsdelivr.net/npm//vega-embed@6?noext\",\n",
       "    };\n",
       "\n",
       "    function loadScript(lib) {\n",
       "      return new Promise(function(resolve, reject) {\n",
       "        var s = document.createElement('script');\n",
       "        s.src = paths[lib];\n",
       "        s.async = true;\n",
       "        s.onload = () => resolve(paths[lib]);\n",
       "        s.onerror = () => reject(`Error loading script: ${paths[lib]}`);\n",
       "        document.getElementsByTagName(\"head\")[0].appendChild(s);\n",
       "      });\n",
       "    }\n",
       "\n",
       "    function showError(err) {\n",
       "      outputDiv.innerHTML = `<div class=\"error\" style=\"color:red;\">${err}</div>`;\n",
       "      throw err;\n",
       "    }\n",
       "\n",
       "    function displayChart(vegaEmbed) {\n",
       "      vegaEmbed(outputDiv, spec, embedOpt)\n",
       "        .catch(err => showError(`Javascript Error: ${err.message}<br>This usually means there's a typo in your chart specification. See the javascript console for the full traceback.`));\n",
       "    }\n",
       "\n",
       "    if(typeof define === \"function\" && define.amd) {\n",
       "      requirejs.config({paths});\n",
       "      require([\"vega-embed\"], displayChart, err => showError(`Error loading script: ${err.message}`));\n",
       "    } else if (typeof vegaEmbed === \"function\") {\n",
       "      displayChart(vegaEmbed);\n",
       "    } else {\n",
       "      loadScript(\"vega\")\n",
       "        .then(() => loadScript(\"vega-lite\"))\n",
       "        .then(() => loadScript(\"vega-embed\"))\n",
       "        .catch(showError)\n",
       "        .then(() => displayChart(vegaEmbed));\n",
       "    }\n",
       "  })({\"config\": {\"view\": {\"continuousWidth\": 400, \"continuousHeight\": 300}}, \"layer\": [{\"data\": {\"name\": \"data-6c76e836f87e9ea8ff1fefd7d27689d6\"}, \"mark\": {\"type\": \"line\", \"color\": \"#BF4055\"}, \"encoding\": {\"x\": {\"type\": \"temporal\", \"axis\": {\"labelFontSize\": 12, \"title\": \"From 12.01 to 04.03\", \"titleFontSize\": 15}, \"field\": \"date\", \"timeUnit\": \"monthdate\"}, \"y\": {\"type\": \"quantitative\", \"axis\": {\"title\": \"# of cases\", \"titleFontSize\": 15}, \"field\": \"daily new case\"}}, \"height\": 400, \"width\": 700}, {\"data\": {\"name\": \"data-f280a5b103cc3b69968582e7e83b12b6\"}, \"mark\": {\"type\": \"text\", \"align\": \"left\", \"baseline\": \"middle\", \"dy\": 0, \"fontSize\": 13}, \"encoding\": {\"text\": {\"type\": \"nominal\", \"field\": \"note\"}, \"x\": {\"type\": \"temporal\", \"field\": \"date\", \"timeUnit\": \"monthdate\"}, \"y\": {\"type\": \"quantitative\", \"axis\": null, \"field\": \"count\"}}}, {\"data\": {\"name\": \"data-e859b738cb23a50e7a7936baddfc58a8\"}, \"mark\": \"line\", \"encoding\": {\"detail\": {\"type\": \"nominal\", \"field\": \"class\"}, \"x\": {\"type\": \"temporal\", \"field\": \"x\", \"timeUnit\": \"monthdate\"}, \"y\": {\"type\": \"quantitative\", \"field\": \"y\"}}}], \"height\": 600, \"title\": {\"text\": \"Daily new cases in Hubei\", \"fontSize\": 20}, \"width\": 900, \"$schema\": \"https://vega.github.io/schema/vega-lite/v4.0.2.json\", \"datasets\": {\"data-6c76e836f87e9ea8ff1fefd7d27689d6\": [{\"date\": \"2020-01-12T00:00:00\", \"daily new case\": 0.0}, {\"date\": \"2020-01-13T00:00:00\", \"daily new case\": 0.0}, {\"date\": \"2020-01-15T00:00:00\", \"daily new case\": 0.0}, {\"date\": \"2020-01-16T00:00:00\", \"daily new case\": 4.0}, {\"date\": \"2020-01-17T00:00:00\", \"daily new case\": 17.0}, {\"date\": \"2020-01-19T00:00:00\", \"daily new case\": 136.0}, {\"date\": \"2020-01-20T00:00:00\", \"daily new case\": 72.0}, {\"date\": \"2020-01-21T00:00:00\", \"daily new case\": 105.0}, {\"date\": \"2020-01-22T00:00:00\", \"daily new case\": 69.0}, {\"date\": \"2020-01-23T00:00:00\", \"daily new case\": 105.0}, {\"date\": \"2020-01-24T00:00:00\", \"daily new case\": 180.0}, {\"date\": \"2020-01-25T00:00:00\", \"daily new case\": 323.0}, {\"date\": \"2020-01-26T00:00:00\", \"daily new case\": 371.0}, {\"date\": \"2020-01-27T00:00:00\", \"daily new case\": 1291.0}, {\"date\": \"2020-01-28T00:00:00\", \"daily new case\": 840.0}, {\"date\": \"2020-01-29T00:00:00\", \"daily new case\": 1032.0}, {\"date\": \"2020-01-30T00:00:00\", \"daily new case\": 1220.0}, {\"date\": \"2020-01-31T00:00:00\", \"daily new case\": 1347.0}, {\"date\": \"2020-02-01T00:00:00\", \"daily new case\": 1921.0}, {\"date\": \"2020-02-02T00:00:00\", \"daily new case\": 2103.0}, {\"date\": \"2020-02-03T00:00:00\", \"daily new case\": 2345.0}, {\"date\": \"2020-02-04T00:00:00\", \"daily new case\": 3156.0}, {\"date\": \"2020-02-05T00:00:00\", \"daily new case\": 2987.0}, {\"date\": \"2020-02-06T00:00:00\", \"daily new case\": 2447.0}, {\"date\": \"2020-02-07T00:00:00\", \"daily new case\": 2841.0}, {\"date\": \"2020-02-08T00:00:00\", \"daily new case\": 2147.0}, {\"date\": \"2020-02-09T00:00:00\", \"daily new case\": 2531.0}, {\"date\": \"2020-02-10T00:00:00\", \"daily new case\": 2097.0}, {\"date\": \"2020-02-11T00:00:00\", \"daily new case\": 1638.0}, {\"date\": \"2020-02-12T00:00:00\", \"daily new case\": 14840.0}, {\"date\": \"2020-02-13T00:00:00\", \"daily new case\": 3780.0}, {\"date\": \"2020-02-14T00:00:00\", \"daily new case\": 2420.0}, {\"date\": \"2020-02-15T00:00:00\", \"daily new case\": 1843.0}, {\"date\": \"2020-02-16T00:00:00\", \"daily new case\": 1933.0}, {\"date\": \"2020-02-17T00:00:00\", \"daily new case\": 1807.0}, {\"date\": \"2020-02-18T00:00:00\", \"daily new case\": 1693.0}, {\"date\": \"2020-02-19T00:00:00\", \"daily new case\": 349.0}, {\"date\": \"2020-02-20T00:00:00\", \"daily new case\": 631.0}, {\"date\": \"2020-02-21T00:00:00\", \"daily new case\": 792.0}, {\"date\": \"2020-02-22T00:00:00\", \"daily new case\": 630.0}, {\"date\": \"2020-02-23T00:00:00\", \"daily new case\": 203.0}, {\"date\": \"2020-02-24T00:00:00\", \"daily new case\": 499.0}, {\"date\": \"2020-02-25T00:00:00\", \"daily new case\": 401.0}, {\"date\": \"2020-02-26T00:00:00\", \"daily new case\": 409.0}, {\"date\": \"2020-02-27T00:00:00\", \"daily new case\": 318.0}, {\"date\": \"2020-02-28T00:00:00\", \"daily new case\": 423.0}, {\"date\": \"2020-02-29T00:00:00\", \"daily new case\": 570.0}, {\"date\": \"2020-03-01T00:00:00\", \"daily new case\": 196.0}, {\"date\": \"2020-03-02T00:00:00\", \"daily new case\": 114.0}, {\"date\": \"2020-03-03T00:00:00\", \"daily new case\": 115.0}, {\"date\": \"2020-03-04T00:00:00\", \"daily new case\": 134.0}], \"data-f280a5b103cc3b69968582e7e83b12b6\": [{\"date\": \"2020-01-13T00:00:00\", \"count\": 12000, \"note\": \"No evidence of H-to-H transmission,stated by Wuhan\"}, {\"date\": \"2020-01-24T00:00:00\", \"count\": 10000, \"note\": \"Zhong:\\\"Evidence of H-to-H tranmission\\\"\"}, {\"date\": \"2020-01-29T00:00:00\", \"count\": 6000, \"note\": \"Wuhan Quarantine\"}, {\"date\": \"2020-01-24T00:00:00\", \"count\": 15000, \"note\": \"Clinical Cases included\"}, {\"date\": \"2020-02-25T00:00:00\", \"count\": 4000, \"note\": \"WHO raises risk to very high\"}], \"data-e859b738cb23a50e7a7936baddfc58a8\": [{\"x\": \"2020-01-19T00:00:00\", \"y\": 11500, \"class\": \"A\"}, {\"x\": \"2020-01-19T00:00:00\", \"y\": 100, \"class\": \"A\"}, {\"x\": \"2020-01-31T00:00:00\", \"y\": 9500, \"class\": \"B\"}, {\"x\": \"2020-01-20T00:00:00\", \"y\": 100, \"class\": \"B\"}, {\"x\": \"2020-02-01T00:00:00\", \"y\": 5500, \"class\": \"C\"}, {\"x\": \"2020-01-23T00:00:00\", \"y\": 200, \"class\": \"C\"}, {\"x\": \"2020-02-04T00:00:00\", \"y\": 14900, \"class\": \"D\"}, {\"x\": \"2020-02-11T00:00:00\", \"y\": 14700, \"class\": \"D\"}, {\"x\": \"2020-02-29T00:00:00\", \"y\": 3500, \"class\": \"E\"}, {\"x\": \"2020-02-29T00:00:00\", \"y\": 650, \"class\": \"E\"}]}}, {\"mode\": \"vega-lite\"});\n",
       "</script>"
      ],
      "text/plain": [
       "alt.LayerChart(...)"
      ]
     },
     "execution_count": 21,
     "metadata": {},
     "output_type": "execute_result"
    }
   ],
   "source": [
    "# Use Altair to draw\n",
    "hubei_fig = alt.Chart(hubei_new).mark_line(color = '#BF4055').encode(\n",
    "    alt.X('monthdate(date):T', axis = alt.Axis( title = 'From 12.01 to 04.03', titleFontSize = 15, \\\n",
    "                                               labelFontSize = 12)),\n",
    "    alt.Y('daily new case:Q', axis = alt.Axis( title = '# of cases', titleFontSize = 15))\n",
    ").properties(\n",
    "    height = 400,\n",
    "    width = 700\n",
    ")\n",
    "\n",
    "# do the annotation\n",
    "annotations = [['2020-01-13', 12000, 'No evidence of H-to-H transmission,stated by Wuhan'],\n",
    "               ['2020-01-24', 10000, 'Zhong:\"Evidence of H-to-H tranmission\"'],\n",
    "               ['2020-01-29', 6000, 'Wuhan Quarantine'],\n",
    "               ['2020-01-24', 15000, 'Clinical Cases included'],\n",
    "               ['2020-02-25', 4000, \"WHO raises risk to very high\"]]\n",
    "text = pd.DataFrame(annotations, columns=['date','count','note'])\n",
    "text['date'] = pd.to_datetime(text['date'], format='%Y-%m-%d')\n",
    "\n",
    "figure_text =  alt.Chart(text).encode(\n",
    "alt.X('monthdate(date):T'),\n",
    "     alt.Y('count:Q', axis = None),\n",
    "     text=alt.Text('note:N')\n",
    "   ).mark_text( align='left',  baseline='middle', dy = 0, fontSize = 13)\n",
    "\n",
    "pointer = pd.DataFrame({\n",
    "    'x':  pd.to_datetime(['2020-01-19', '2020-01-19', '2020-01-31', '2020-01-20',\\\n",
    "                         '2020-02-01', '2020-01-23', '2020-02-04', '2020-02-11',\\\n",
    "                         '2020-02-29', '2020-02-29'], format = '%Y-%m-%d'),\n",
    "    'y': [11500, 100, 9500, 100, 5500, 200, 14900, 14700, 3500, 650],\n",
    "    'class': ['A', 'A', 'B', 'B', 'C', 'C', 'D', 'D', 'E', 'E']\n",
    "})\n",
    "\n",
    "line = alt.Chart(pointer).mark_line().encode(\n",
    "    x='monthdate(x):T',\n",
    "    y='y',\n",
    "    detail='class'\n",
    ")\n",
    "\n",
    "(hubei_fig  + figure_text + line).properties(\n",
    "    height = 600,\n",
    "    width = 900,\n",
    "    title = {'text': 'Daily new cases in Hubei', 'fontSize' : 20}\n",
    ")"
   ]
  },
  {
   "cell_type": "markdown",
   "metadata": {},
   "source": [
    "Annotation is added to indicate some important events. The large peak on 12.02 occurred because the clinically detected cases, which were confirmed by CT but were treated as suspected before, were also included as active cases. From the figure, we could also tell that there is a signal of betterment at the end of February."
   ]
  },
  {
   "cell_type": "markdown",
   "metadata": {},
   "source": [
    "## The current status of coronavirus"
   ]
  },
  {
   "cell_type": "markdown",
   "metadata": {},
   "source": [
    "Now, let's focus on the statistical data of the current status of the coronavirus. Firstly, we should download the data from the [websiite](https://www.worldometers.info/coronavirus/)."
   ]
  },
  {
   "cell_type": "code",
   "execution_count": 22,
   "metadata": {},
   "outputs": [
    {
     "data": {
      "text/html": [
       "<div>\n",
       "<style scoped>\n",
       "    .dataframe tbody tr th:only-of-type {\n",
       "        vertical-align: middle;\n",
       "    }\n",
       "\n",
       "    .dataframe tbody tr th {\n",
       "        vertical-align: top;\n",
       "    }\n",
       "\n",
       "    .dataframe thead th {\n",
       "        text-align: right;\n",
       "    }\n",
       "</style>\n",
       "<table border=\"1\" class=\"dataframe\">\n",
       "  <thead>\n",
       "    <tr style=\"text-align: right;\">\n",
       "      <th></th>\n",
       "      <th>Country,Other</th>\n",
       "      <th>TotalCases</th>\n",
       "      <th>NewCases</th>\n",
       "      <th>TotalDeaths</th>\n",
       "      <th>NewDeaths</th>\n",
       "      <th>TotalRecovered</th>\n",
       "      <th>ActiveCases</th>\n",
       "      <th>Serious,Critical</th>\n",
       "      <th>Tot Cases/1M pop</th>\n",
       "      <th>Deaths/1M pop</th>\n",
       "      <th>Reported1st case</th>\n",
       "    </tr>\n",
       "  </thead>\n",
       "  <tbody>\n",
       "    <tr>\n",
       "      <th>0</th>\n",
       "      <td>USA</td>\n",
       "      <td>164253</td>\n",
       "      <td>+409</td>\n",
       "      <td>3165.0</td>\n",
       "      <td>9.0</td>\n",
       "      <td>5506.0</td>\n",
       "      <td>155582</td>\n",
       "      <td>3512.0</td>\n",
       "      <td>496.0</td>\n",
       "      <td>10.0</td>\n",
       "      <td>Jan 20</td>\n",
       "    </tr>\n",
       "    <tr>\n",
       "      <th>1</th>\n",
       "      <td>Italy</td>\n",
       "      <td>101739</td>\n",
       "      <td>NaN</td>\n",
       "      <td>11591.0</td>\n",
       "      <td>NaN</td>\n",
       "      <td>14620.0</td>\n",
       "      <td>75528</td>\n",
       "      <td>3981.0</td>\n",
       "      <td>1683.0</td>\n",
       "      <td>192.0</td>\n",
       "      <td>Jan 29</td>\n",
       "    </tr>\n",
       "    <tr>\n",
       "      <th>2</th>\n",
       "      <td>Spain</td>\n",
       "      <td>87956</td>\n",
       "      <td>NaN</td>\n",
       "      <td>7716.0</td>\n",
       "      <td>NaN</td>\n",
       "      <td>16780.0</td>\n",
       "      <td>63460</td>\n",
       "      <td>5231.0</td>\n",
       "      <td>1881.0</td>\n",
       "      <td>165.0</td>\n",
       "      <td>Jan 30</td>\n",
       "    </tr>\n",
       "    <tr>\n",
       "      <th>3</th>\n",
       "      <td>Germany</td>\n",
       "      <td>66885</td>\n",
       "      <td>NaN</td>\n",
       "      <td>645.0</td>\n",
       "      <td>NaN</td>\n",
       "      <td>13500.0</td>\n",
       "      <td>52740</td>\n",
       "      <td>1979.0</td>\n",
       "      <td>798.0</td>\n",
       "      <td>8.0</td>\n",
       "      <td>Jan 26</td>\n",
       "    </tr>\n",
       "    <tr>\n",
       "      <th>4</th>\n",
       "      <td>France</td>\n",
       "      <td>44550</td>\n",
       "      <td>NaN</td>\n",
       "      <td>3024.0</td>\n",
       "      <td>NaN</td>\n",
       "      <td>7927.0</td>\n",
       "      <td>33599</td>\n",
       "      <td>5056.0</td>\n",
       "      <td>683.0</td>\n",
       "      <td>46.0</td>\n",
       "      <td>Jan 23</td>\n",
       "    </tr>\n",
       "    <tr>\n",
       "      <th>5</th>\n",
       "      <td>Iran</td>\n",
       "      <td>41495</td>\n",
       "      <td>NaN</td>\n",
       "      <td>2757.0</td>\n",
       "      <td>NaN</td>\n",
       "      <td>13911.0</td>\n",
       "      <td>24827</td>\n",
       "      <td>3511.0</td>\n",
       "      <td>494.0</td>\n",
       "      <td>33.0</td>\n",
       "      <td>Feb 18</td>\n",
       "    </tr>\n",
       "    <tr>\n",
       "      <th>6</th>\n",
       "      <td>UK</td>\n",
       "      <td>22141</td>\n",
       "      <td>NaN</td>\n",
       "      <td>1408.0</td>\n",
       "      <td>NaN</td>\n",
       "      <td>135.0</td>\n",
       "      <td>20598</td>\n",
       "      <td>163.0</td>\n",
       "      <td>326.0</td>\n",
       "      <td>21.0</td>\n",
       "      <td>Jan 30</td>\n",
       "    </tr>\n",
       "    <tr>\n",
       "      <th>7</th>\n",
       "      <td>Switzerland</td>\n",
       "      <td>15922</td>\n",
       "      <td>NaN</td>\n",
       "      <td>359.0</td>\n",
       "      <td>NaN</td>\n",
       "      <td>1823.0</td>\n",
       "      <td>13740</td>\n",
       "      <td>301.0</td>\n",
       "      <td>1840.0</td>\n",
       "      <td>41.0</td>\n",
       "      <td>Feb 24</td>\n",
       "    </tr>\n",
       "    <tr>\n",
       "      <th>8</th>\n",
       "      <td>Belgium</td>\n",
       "      <td>11899</td>\n",
       "      <td>NaN</td>\n",
       "      <td>513.0</td>\n",
       "      <td>NaN</td>\n",
       "      <td>1527.0</td>\n",
       "      <td>9859</td>\n",
       "      <td>927.0</td>\n",
       "      <td>1027.0</td>\n",
       "      <td>44.0</td>\n",
       "      <td>Feb 03</td>\n",
       "    </tr>\n",
       "    <tr>\n",
       "      <th>9</th>\n",
       "      <td>Netherlands</td>\n",
       "      <td>11750</td>\n",
       "      <td>NaN</td>\n",
       "      <td>864.0</td>\n",
       "      <td>NaN</td>\n",
       "      <td>250.0</td>\n",
       "      <td>10636</td>\n",
       "      <td>1053.0</td>\n",
       "      <td>686.0</td>\n",
       "      <td>50.0</td>\n",
       "      <td>Feb 26</td>\n",
       "    </tr>\n",
       "  </tbody>\n",
       "</table>\n",
       "</div>"
      ],
      "text/plain": [
       "  Country,Other  TotalCases NewCases  TotalDeaths  NewDeaths  TotalRecovered  \\\n",
       "0           USA      164253     +409       3165.0        9.0          5506.0   \n",
       "1         Italy      101739      NaN      11591.0        NaN         14620.0   \n",
       "2         Spain       87956      NaN       7716.0        NaN         16780.0   \n",
       "3       Germany       66885      NaN        645.0        NaN         13500.0   \n",
       "4        France       44550      NaN       3024.0        NaN          7927.0   \n",
       "5          Iran       41495      NaN       2757.0        NaN         13911.0   \n",
       "6            UK       22141      NaN       1408.0        NaN           135.0   \n",
       "7   Switzerland       15922      NaN        359.0        NaN          1823.0   \n",
       "8       Belgium       11899      NaN        513.0        NaN          1527.0   \n",
       "9   Netherlands       11750      NaN        864.0        NaN           250.0   \n",
       "\n",
       "   ActiveCases  Serious,Critical  Tot Cases/1M pop  Deaths/1M pop  \\\n",
       "0       155582            3512.0             496.0           10.0   \n",
       "1        75528            3981.0            1683.0          192.0   \n",
       "2        63460            5231.0            1881.0          165.0   \n",
       "3        52740            1979.0             798.0            8.0   \n",
       "4        33599            5056.0             683.0           46.0   \n",
       "5        24827            3511.0             494.0           33.0   \n",
       "6        20598             163.0             326.0           21.0   \n",
       "7        13740             301.0            1840.0           41.0   \n",
       "8         9859             927.0            1027.0           44.0   \n",
       "9        10636            1053.0             686.0           50.0   \n",
       "\n",
       "  Reported1st case  \n",
       "0           Jan 20  \n",
       "1           Jan 29  \n",
       "2           Jan 30  \n",
       "3           Jan 26  \n",
       "4           Jan 23  \n",
       "5           Feb 18  \n",
       "6           Jan 30  \n",
       "7           Feb 24  \n",
       "8           Feb 03  \n",
       "9           Feb 26  "
      ]
     },
     "execution_count": 22,
     "metadata": {},
     "output_type": "execute_result"
    }
   ],
   "source": [
    "import requests\n",
    "\n",
    "url = 'https://www.worldometers.info/coronavirus/'\n",
    "\n",
    "header = {\n",
    "  \"User-Agent\": \"Mozilla/5.0 (X11; Linux x86_64) AppleWebKit/537.36 (KHTML, like Gecko) Chrome/50.0.2661.75 Safari/537.36\",\n",
    "  \"X-Requested-With\": \"XMLHttpRequest\"\n",
    "}\n",
    "\n",
    "r = requests.get(url, headers=header)\n",
    "\n",
    "data = pd.read_html(r.text)[0]\n",
    "\n",
    "# save data to csv\n",
    "data.to_csv('coronavirus.csv')\n",
    "data.head(10)"
   ]
  },
  {
   "cell_type": "markdown",
   "metadata": {},
   "source": [
    "If the link given above does not work, then uncomment the following cell to use the prepared data which is the statistics on 25.03.2020."
   ]
  },
  {
   "cell_type": "code",
   "execution_count": 23,
   "metadata": {},
   "outputs": [],
   "source": [
    "#data = pd.read_csv('./asset/statistics.csv')\n",
    "#data.drop( columns = 'Unnamed: 0', inplace = True)\n",
    "#data.head(10)"
   ]
  },
  {
   "cell_type": "markdown",
   "metadata": {},
   "source": [
    "### The total number of patients all over the world"
   ]
  },
  {
   "cell_type": "markdown",
   "metadata": {},
   "source": [
    "It is always useful to have an statistical overview which shows the total numbers of active cases, deaths and recovered. "
   ]
  },
  {
   "cell_type": "code",
   "execution_count": 24,
   "metadata": {},
   "outputs": [
    {
     "data": {
      "text/html": [
       "\n",
       "<div id=\"altair-viz-57baac30a60043fba3e493a4c984204c\"></div>\n",
       "<script type=\"text/javascript\">\n",
       "  (function(spec, embedOpt){\n",
       "    const outputDiv = document.getElementById(\"altair-viz-57baac30a60043fba3e493a4c984204c\");\n",
       "    const paths = {\n",
       "      \"vega\": \"https://cdn.jsdelivr.net/npm//vega@5?noext\",\n",
       "      \"vega-lib\": \"https://cdn.jsdelivr.net/npm//vega-lib?noext\",\n",
       "      \"vega-lite\": \"https://cdn.jsdelivr.net/npm//vega-lite@4.0.2?noext\",\n",
       "      \"vega-embed\": \"https://cdn.jsdelivr.net/npm//vega-embed@6?noext\",\n",
       "    };\n",
       "\n",
       "    function loadScript(lib) {\n",
       "      return new Promise(function(resolve, reject) {\n",
       "        var s = document.createElement('script');\n",
       "        s.src = paths[lib];\n",
       "        s.async = true;\n",
       "        s.onload = () => resolve(paths[lib]);\n",
       "        s.onerror = () => reject(`Error loading script: ${paths[lib]}`);\n",
       "        document.getElementsByTagName(\"head\")[0].appendChild(s);\n",
       "      });\n",
       "    }\n",
       "\n",
       "    function showError(err) {\n",
       "      outputDiv.innerHTML = `<div class=\"error\" style=\"color:red;\">${err}</div>`;\n",
       "      throw err;\n",
       "    }\n",
       "\n",
       "    function displayChart(vegaEmbed) {\n",
       "      vegaEmbed(outputDiv, spec, embedOpt)\n",
       "        .catch(err => showError(`Javascript Error: ${err.message}<br>This usually means there's a typo in your chart specification. See the javascript console for the full traceback.`));\n",
       "    }\n",
       "\n",
       "    if(typeof define === \"function\" && define.amd) {\n",
       "      requirejs.config({paths});\n",
       "      require([\"vega-embed\"], displayChart, err => showError(`Error loading script: ${err.message}`));\n",
       "    } else if (typeof vegaEmbed === \"function\") {\n",
       "      displayChart(vegaEmbed);\n",
       "    } else {\n",
       "      loadScript(\"vega\")\n",
       "        .then(() => loadScript(\"vega-lite\"))\n",
       "        .then(() => loadScript(\"vega-embed\"))\n",
       "        .catch(showError)\n",
       "        .then(() => displayChart(vegaEmbed));\n",
       "    }\n",
       "  })({\"config\": {\"view\": {\"continuousWidth\": 400, \"continuousHeight\": 300}}, \"data\": {\"name\": \"data-0144929b71539bb81f7bac6acb926462\"}, \"mark\": \"bar\", \"encoding\": {\"color\": {\"type\": \"nominal\", \"field\": \"variable\", \"legend\": {\"labelFontSize\": 15, \"title\": \"Cases\", \"titleFontSize\": 15}, \"scale\": {\"domain\": [\"TotalRecovered\", \"ActiveCases\", \"TotalDeaths\"], \"range\": [\"green\", \"#52C9E0\", \"red\"]}}, \"x\": {\"type\": \"quantitative\", \"axis\": {\"title\": \"The overall statistics\", \"titleFontSize\": 15}, \"field\": \"value\"}, \"y\": {\"type\": \"nominal\", \"axis\": {\"labelFontSize\": 15, \"title\": null}, \"field\": \"variable\", \"scale\": {\"paddingInner\": 0.1}, \"sort\": [\"TotalRecovered\", \"ActiveCases\", \"TotalDeaths\"]}}, \"height\": 200, \"width\": 500, \"$schema\": \"https://vega.github.io/schema/vega-lite/v4.0.2.json\", \"datasets\": {\"data-0144929b71539bb81f7bac6acb926462\": [{\"Country,Other\": \"Total:\", \"variable\": \"TotalDeaths\", \"value\": 37815.0}, {\"Country,Other\": \"Total:\", \"variable\": \"TotalRecovered\", \"value\": 165607.0}, {\"Country,Other\": \"Total:\", \"variable\": \"ActiveCases\", \"value\": 582355}]}}, {\"mode\": \"vega-lite\"});\n",
       "</script>"
      ],
      "text/plain": [
       "alt.Chart(...)"
      ]
     },
     "execution_count": 24,
     "metadata": {},
     "output_type": "execute_result"
    }
   ],
   "source": [
    "total = pd.melt(data, id_vars = 'Country,Other') # convert to long form\n",
    "total = total[ total['Country,Other'] == 'Total:'] \n",
    "\n",
    "# construct a sorting list\n",
    "names = ['TotalRecovered', 'ActiveCases', 'TotalDeaths']\n",
    "colors = ['green', '#52C9E0', 'red']\n",
    "\n",
    "pic_left = alt.Chart(total[ (total['variable'] == 'TotalDeaths' )| \\\n",
    "                         (total['variable'] == 'ActiveCases' )| \\\n",
    "                         (total['variable'] == 'TotalRecovered')]).mark_bar().encode(\n",
    "    \n",
    " alt.Y('variable:N', sort = names, axis = alt.Axis(title = None, labelFontSize = 15), \\\n",
    "      scale = alt.Scale(paddingInner=0.1)),\n",
    "    \n",
    "    alt.X('value:Q', axis = alt.Axis(title = 'The overall statistics', titleFontSize = 15), \\\n",
    "           ),\n",
    "          \n",
    "    alt.Color('variable:N', legend = alt.Legend(title = 'Cases', labelFontSize = 15, titleFontSize = 15), \\\n",
    "             scale = alt.Scale(domain = names, range = colors))\n",
    ").properties(\n",
    "    height = 200,\n",
    "    width = 500\n",
    ")\n",
    "\n",
    "pic_left"
   ]
  },
  {
   "cell_type": "markdown",
   "metadata": {},
   "source": [
    "From the figure above, it is clear that the disease is not really under control, because the number of active cases is three times greater than the number of recovered cases. Also, the number of deaths is about 20000. "
   ]
  },
  {
   "cell_type": "markdown",
   "metadata": {},
   "source": [
    "### Country-ranking by severity level of the novel coronavirus"
   ]
  },
  {
   "cell_type": "markdown",
   "metadata": {},
   "source": [
    "Since the novel coronavirus is now considered to be pandemic, it is useful to know which countries suffer the most from this disease. In the following cell, the data of statistics of each country were collected, and then 10 countries that have the highest severity were listed."
   ]
  },
  {
   "cell_type": "code",
   "execution_count": 25,
   "metadata": {},
   "outputs": [
    {
     "data": {
      "text/html": [
       "\n",
       "<div id=\"altair-viz-85290c7bbed84d88b5e26b08ce79eac9\"></div>\n",
       "<script type=\"text/javascript\">\n",
       "  (function(spec, embedOpt){\n",
       "    const outputDiv = document.getElementById(\"altair-viz-85290c7bbed84d88b5e26b08ce79eac9\");\n",
       "    const paths = {\n",
       "      \"vega\": \"https://cdn.jsdelivr.net/npm//vega@5?noext\",\n",
       "      \"vega-lib\": \"https://cdn.jsdelivr.net/npm//vega-lib?noext\",\n",
       "      \"vega-lite\": \"https://cdn.jsdelivr.net/npm//vega-lite@4.0.2?noext\",\n",
       "      \"vega-embed\": \"https://cdn.jsdelivr.net/npm//vega-embed@6?noext\",\n",
       "    };\n",
       "\n",
       "    function loadScript(lib) {\n",
       "      return new Promise(function(resolve, reject) {\n",
       "        var s = document.createElement('script');\n",
       "        s.src = paths[lib];\n",
       "        s.async = true;\n",
       "        s.onload = () => resolve(paths[lib]);\n",
       "        s.onerror = () => reject(`Error loading script: ${paths[lib]}`);\n",
       "        document.getElementsByTagName(\"head\")[0].appendChild(s);\n",
       "      });\n",
       "    }\n",
       "\n",
       "    function showError(err) {\n",
       "      outputDiv.innerHTML = `<div class=\"error\" style=\"color:red;\">${err}</div>`;\n",
       "      throw err;\n",
       "    }\n",
       "\n",
       "    function displayChart(vegaEmbed) {\n",
       "      vegaEmbed(outputDiv, spec, embedOpt)\n",
       "        .catch(err => showError(`Javascript Error: ${err.message}<br>This usually means there's a typo in your chart specification. See the javascript console for the full traceback.`));\n",
       "    }\n",
       "\n",
       "    if(typeof define === \"function\" && define.amd) {\n",
       "      requirejs.config({paths});\n",
       "      require([\"vega-embed\"], displayChart, err => showError(`Error loading script: ${err.message}`));\n",
       "    } else if (typeof vegaEmbed === \"function\") {\n",
       "      displayChart(vegaEmbed);\n",
       "    } else {\n",
       "      loadScript(\"vega\")\n",
       "        .then(() => loadScript(\"vega-lite\"))\n",
       "        .then(() => loadScript(\"vega-embed\"))\n",
       "        .catch(showError)\n",
       "        .then(() => displayChart(vegaEmbed));\n",
       "    }\n",
       "  })({\"config\": {\"view\": {\"continuousWidth\": 400, \"continuousHeight\": 300, \"strokeWidth\": 0}}, \"hconcat\": [{\"mark\": {\"type\": \"bar\", \"color\": \"#E08594\"}, \"encoding\": {\"x\": {\"type\": \"quantitative\", \"axis\": {\"orient\": \"top\", \"title\": null}, \"field\": \"TotalCases\", \"sort\": \"descending\"}, \"y\": {\"type\": \"nominal\", \"axis\": null, \"field\": \"Country,Other\", \"sort\": [\"USA\", \"Italy\", \"Spain\", \"China\", \"Germany\", \"France\", \"Iran\", \"UK\", \"Switzerland\", \"Belgium\"], \"title\": null}}, \"height\": 400, \"title\": \"# of Total Cases\", \"width\": 300}, {\"mark\": {\"type\": \"text\", \"fontSize\": 20}, \"encoding\": {\"text\": {\"type\": \"nominal\", \"field\": \"Country,Other\"}, \"y\": {\"type\": \"nominal\", \"axis\": null, \"field\": \"Country,Other\", \"sort\": [\"TotalRecovered\", \"ActiveCases\", \"TotalDeaths\"]}}, \"height\": 400}, {\"data\": {\"name\": \"data-34186b91016c1c34d704fac0a6b7b86f\"}, \"mark\": \"bar\", \"encoding\": {\"color\": {\"type\": \"nominal\", \"field\": \"variable\", \"legend\": {\"labelFontSize\": 15, \"title\": \"Type of Cases\", \"titleFontSize\": 15}, \"scale\": {\"domain\": [\"TotalRecovered\", \"ActiveCases\", \"TotalDeaths\"], \"range\": [\"green\", \"#52C9E0\", \"red\"]}}, \"x\": {\"type\": \"quantitative\", \"axis\": {\"orient\": \"top\", \"title\": null}, \"field\": \"value\"}, \"y\": {\"type\": \"nominal\", \"axis\": null, \"field\": \"Country,Other\", \"sort\": [\"USA\", \"Italy\", \"Spain\", \"China\", \"Germany\", \"France\", \"Iran\", \"UK\", \"Switzerland\", \"Belgium\"]}}, \"height\": 400, \"title\": \"Among Cases\", \"width\": 300}], \"data\": {\"name\": \"data-0506352390ed116f55e5cec09d3e46a0\"}, \"$schema\": \"https://vega.github.io/schema/vega-lite/v4.0.2.json\", \"datasets\": {\"data-0506352390ed116f55e5cec09d3e46a0\": [{\"Country,Other\": \"USA\", \"TotalCases\": 164253, \"NewCases\": \"+409\", \"TotalDeaths\": 3165.0, \"NewDeaths\": 9.0, \"TotalRecovered\": 5506.0, \"ActiveCases\": 155582, \"Serious,Critical\": 3512.0, \"Tot\\u00a0Cases/1M pop\": 496.0, \"Deaths/1M pop\": 10.0, \"Reported1st case\": \"Jan 20\"}, {\"Country,Other\": \"Italy\", \"TotalCases\": 101739, \"NewCases\": null, \"TotalDeaths\": 11591.0, \"NewDeaths\": null, \"TotalRecovered\": 14620.0, \"ActiveCases\": 75528, \"Serious,Critical\": 3981.0, \"Tot\\u00a0Cases/1M pop\": 1683.0, \"Deaths/1M pop\": 192.0, \"Reported1st case\": \"Jan 29\"}, {\"Country,Other\": \"Spain\", \"TotalCases\": 87956, \"NewCases\": null, \"TotalDeaths\": 7716.0, \"NewDeaths\": null, \"TotalRecovered\": 16780.0, \"ActiveCases\": 63460, \"Serious,Critical\": 5231.0, \"Tot\\u00a0Cases/1M pop\": 1881.0, \"Deaths/1M pop\": 165.0, \"Reported1st case\": \"Jan 30\"}, {\"Country,Other\": \"China\", \"TotalCases\": 81518, \"NewCases\": \"+79\", \"TotalDeaths\": 3305.0, \"NewDeaths\": 5.0, \"TotalRecovered\": 76052.0, \"ActiveCases\": 2161, \"Serious,Critical\": 528.0, \"Tot\\u00a0Cases/1M pop\": 57.0, \"Deaths/1M pop\": 2.0, \"Reported1st case\": \"Jan 10\"}, {\"Country,Other\": \"Germany\", \"TotalCases\": 66885, \"NewCases\": null, \"TotalDeaths\": 645.0, \"NewDeaths\": null, \"TotalRecovered\": 13500.0, \"ActiveCases\": 52740, \"Serious,Critical\": 1979.0, \"Tot\\u00a0Cases/1M pop\": 798.0, \"Deaths/1M pop\": 8.0, \"Reported1st case\": \"Jan 26\"}, {\"Country,Other\": \"France\", \"TotalCases\": 44550, \"NewCases\": null, \"TotalDeaths\": 3024.0, \"NewDeaths\": null, \"TotalRecovered\": 7927.0, \"ActiveCases\": 33599, \"Serious,Critical\": 5056.0, \"Tot\\u00a0Cases/1M pop\": 683.0, \"Deaths/1M pop\": 46.0, \"Reported1st case\": \"Jan 23\"}, {\"Country,Other\": \"Iran\", \"TotalCases\": 41495, \"NewCases\": null, \"TotalDeaths\": 2757.0, \"NewDeaths\": null, \"TotalRecovered\": 13911.0, \"ActiveCases\": 24827, \"Serious,Critical\": 3511.0, \"Tot\\u00a0Cases/1M pop\": 494.0, \"Deaths/1M pop\": 33.0, \"Reported1st case\": \"Feb 18\"}, {\"Country,Other\": \"UK\", \"TotalCases\": 22141, \"NewCases\": null, \"TotalDeaths\": 1408.0, \"NewDeaths\": null, \"TotalRecovered\": 135.0, \"ActiveCases\": 20598, \"Serious,Critical\": 163.0, \"Tot\\u00a0Cases/1M pop\": 326.0, \"Deaths/1M pop\": 21.0, \"Reported1st case\": \"Jan 30\"}, {\"Country,Other\": \"Switzerland\", \"TotalCases\": 15922, \"NewCases\": null, \"TotalDeaths\": 359.0, \"NewDeaths\": null, \"TotalRecovered\": 1823.0, \"ActiveCases\": 13740, \"Serious,Critical\": 301.0, \"Tot\\u00a0Cases/1M pop\": 1840.0, \"Deaths/1M pop\": 41.0, \"Reported1st case\": \"Feb 24\"}, {\"Country,Other\": \"Belgium\", \"TotalCases\": 11899, \"NewCases\": null, \"TotalDeaths\": 513.0, \"NewDeaths\": null, \"TotalRecovered\": 1527.0, \"ActiveCases\": 9859, \"Serious,Critical\": 927.0, \"Tot\\u00a0Cases/1M pop\": 1027.0, \"Deaths/1M pop\": 44.0, \"Reported1st case\": \"Feb 03\"}], \"data-34186b91016c1c34d704fac0a6b7b86f\": [{\"Country,Other\": \"USA\", \"variable\": \"TotalRecovered\", \"value\": 5506.0}, {\"Country,Other\": \"Italy\", \"variable\": \"TotalRecovered\", \"value\": 14620.0}, {\"Country,Other\": \"Spain\", \"variable\": \"TotalRecovered\", \"value\": 16780.0}, {\"Country,Other\": \"China\", \"variable\": \"TotalRecovered\", \"value\": 76052.0}, {\"Country,Other\": \"Germany\", \"variable\": \"TotalRecovered\", \"value\": 13500.0}, {\"Country,Other\": \"France\", \"variable\": \"TotalRecovered\", \"value\": 7927.0}, {\"Country,Other\": \"Iran\", \"variable\": \"TotalRecovered\", \"value\": 13911.0}, {\"Country,Other\": \"UK\", \"variable\": \"TotalRecovered\", \"value\": 135.0}, {\"Country,Other\": \"Switzerland\", \"variable\": \"TotalRecovered\", \"value\": 1823.0}, {\"Country,Other\": \"Belgium\", \"variable\": \"TotalRecovered\", \"value\": 1527.0}, {\"Country,Other\": \"USA\", \"variable\": \"ActiveCases\", \"value\": 155582.0}, {\"Country,Other\": \"Italy\", \"variable\": \"ActiveCases\", \"value\": 75528.0}, {\"Country,Other\": \"Spain\", \"variable\": \"ActiveCases\", \"value\": 63460.0}, {\"Country,Other\": \"China\", \"variable\": \"ActiveCases\", \"value\": 2161.0}, {\"Country,Other\": \"Germany\", \"variable\": \"ActiveCases\", \"value\": 52740.0}, {\"Country,Other\": \"France\", \"variable\": \"ActiveCases\", \"value\": 33599.0}, {\"Country,Other\": \"Iran\", \"variable\": \"ActiveCases\", \"value\": 24827.0}, {\"Country,Other\": \"UK\", \"variable\": \"ActiveCases\", \"value\": 20598.0}, {\"Country,Other\": \"Switzerland\", \"variable\": \"ActiveCases\", \"value\": 13740.0}, {\"Country,Other\": \"Belgium\", \"variable\": \"ActiveCases\", \"value\": 9859.0}, {\"Country,Other\": \"USA\", \"variable\": \"TotalDeaths\", \"value\": 3165.0}, {\"Country,Other\": \"Italy\", \"variable\": \"TotalDeaths\", \"value\": 11591.0}, {\"Country,Other\": \"Spain\", \"variable\": \"TotalDeaths\", \"value\": 7716.0}, {\"Country,Other\": \"China\", \"variable\": \"TotalDeaths\", \"value\": 3305.0}, {\"Country,Other\": \"Germany\", \"variable\": \"TotalDeaths\", \"value\": 645.0}, {\"Country,Other\": \"France\", \"variable\": \"TotalDeaths\", \"value\": 3024.0}, {\"Country,Other\": \"Iran\", \"variable\": \"TotalDeaths\", \"value\": 2757.0}, {\"Country,Other\": \"UK\", \"variable\": \"TotalDeaths\", \"value\": 1408.0}, {\"Country,Other\": \"Switzerland\", \"variable\": \"TotalDeaths\", \"value\": 359.0}, {\"Country,Other\": \"Belgium\", \"variable\": \"TotalDeaths\", \"value\": 513.0}]}}, {\"mode\": \"vega-lite\"});\n",
       "</script>"
      ],
      "text/plain": [
       "alt.HConcatChart(...)"
      ]
     },
     "execution_count": 25,
     "metadata": {},
     "output_type": "execute_result"
    }
   ],
   "source": [
    "# rank the countries by the total number of cases\n",
    "data_1 = data.sort_values(by = 'TotalCases', ascending = False).head(11).iloc[1:11]\n",
    "\n",
    "# set ranking range from 1 to 10\n",
    "data_1['index'] = list(range(1,11))\n",
    "data_1.set_index('index', inplace = True)\n",
    "data_1.fillna(value = {'TotalDeaths' : 0}, inplace = True)\n",
    "\n",
    "# ranking list \n",
    "names_c = data_1['Country,Other'].to_list()\n",
    "\n",
    "# replace NaN with 0 in Total Deaths\n",
    "\n",
    "middle  = alt.Chart(data_1).encode(\n",
    "    alt.Y('Country,Other:N', sort = names, axis=None),\n",
    "    text = alt.Text('Country,Other:N'),\n",
    ").mark_text(fontSize = 20).properties( height = 400)\n",
    "\n",
    "left = alt.Chart(data_1).encode(\n",
    "    alt.Y('Country,Other:N', sort = names_c, title = None, axis = None),\n",
    "    alt.X('TotalCases:Q', sort = 'descending', axis = alt.Axis(title = None,orient = 'top'))\n",
    ").mark_bar(color = '#E08594').properties(\n",
    "width = 300,\n",
    "    height = 400,\n",
    "    title = '# of Total Cases'\n",
    ")\n",
    "\n",
    "# long form\n",
    "right_data = data_1[['Country,Other', 'TotalRecovered', 'ActiveCases','TotalDeaths']]\n",
    "right_data = pd.melt(right_data, id_vars = 'Country,Other')\n",
    "\n",
    "right = alt.Chart(right_data).mark_bar().encode(\n",
    "    alt.Y('Country,Other:N', axis = None, sort = names_c),\n",
    "    alt.X('value:Q', axis = alt.Axis(title = None,orient = 'top')),\n",
    "    alt.Color('variable:N', scale = alt.Scale(domain = names, range = colors),\\\n",
    "             legend = alt.Legend(title = 'Type of Cases', titleFontSize = 15, labelFontSize = 15))\n",
    ").properties(\n",
    "width = 300,\n",
    "    height = 400,\n",
    "    title = 'Among Cases'\n",
    ")\n",
    "(left | middle| right).configure_view(strokeWidth=0)"
   ]
  },
  {
   "cell_type": "markdown",
   "metadata": {},
   "source": [
    "As we can see, China, Italy and the USA are the top three countries which are seriously affected by the coronavirus. According to the data of China, the situation there is considered to be mild. It is also interesting that why Italy, the USA and Spain are getting worse situations than Japan and Korea those are more close to China? "
   ]
  },
  {
   "cell_type": "markdown",
   "metadata": {},
   "source": [
    "### Cases outside China"
   ]
  },
  {
   "cell_type": "code",
   "execution_count": 26,
   "metadata": {},
   "outputs": [
    {
     "data": {
      "text/html": [
       "\n",
       "<div id=\"altair-viz-b56c995ba6984d79bfe2ae3d2bb642b1\"></div>\n",
       "<script type=\"text/javascript\">\n",
       "  (function(spec, embedOpt){\n",
       "    const outputDiv = document.getElementById(\"altair-viz-b56c995ba6984d79bfe2ae3d2bb642b1\");\n",
       "    const paths = {\n",
       "      \"vega\": \"https://cdn.jsdelivr.net/npm//vega@5?noext\",\n",
       "      \"vega-lib\": \"https://cdn.jsdelivr.net/npm//vega-lib?noext\",\n",
       "      \"vega-lite\": \"https://cdn.jsdelivr.net/npm//vega-lite@4.0.2?noext\",\n",
       "      \"vega-embed\": \"https://cdn.jsdelivr.net/npm//vega-embed@6?noext\",\n",
       "    };\n",
       "\n",
       "    function loadScript(lib) {\n",
       "      return new Promise(function(resolve, reject) {\n",
       "        var s = document.createElement('script');\n",
       "        s.src = paths[lib];\n",
       "        s.async = true;\n",
       "        s.onload = () => resolve(paths[lib]);\n",
       "        s.onerror = () => reject(`Error loading script: ${paths[lib]}`);\n",
       "        document.getElementsByTagName(\"head\")[0].appendChild(s);\n",
       "      });\n",
       "    }\n",
       "\n",
       "    function showError(err) {\n",
       "      outputDiv.innerHTML = `<div class=\"error\" style=\"color:red;\">${err}</div>`;\n",
       "      throw err;\n",
       "    }\n",
       "\n",
       "    function displayChart(vegaEmbed) {\n",
       "      vegaEmbed(outputDiv, spec, embedOpt)\n",
       "        .catch(err => showError(`Javascript Error: ${err.message}<br>This usually means there's a typo in your chart specification. See the javascript console for the full traceback.`));\n",
       "    }\n",
       "\n",
       "    if(typeof define === \"function\" && define.amd) {\n",
       "      requirejs.config({paths});\n",
       "      require([\"vega-embed\"], displayChart, err => showError(`Error loading script: ${err.message}`));\n",
       "    } else if (typeof vegaEmbed === \"function\") {\n",
       "      displayChart(vegaEmbed);\n",
       "    } else {\n",
       "      loadScript(\"vega\")\n",
       "        .then(() => loadScript(\"vega-lite\"))\n",
       "        .then(() => loadScript(\"vega-embed\"))\n",
       "        .catch(showError)\n",
       "        .then(() => displayChart(vegaEmbed));\n",
       "    }\n",
       "  })({\"config\": {\"view\": {\"continuousWidth\": 400, \"continuousHeight\": 300}}, \"data\": {\"name\": \"data-af7956c890dcef41e63cf9a1c0119d45\"}, \"mark\": \"bar\", \"encoding\": {\"color\": {\"type\": \"nominal\", \"field\": \"variable\", \"legend\": {\"labelFontSize\": 15, \"title\": \"Type of Cases\", \"titleFontSize\": 15}, \"scale\": {\"domain\": [\"TotalRecovered\", \"ActiveCases\", \"TotalDeaths\"], \"range\": [\"green\", \"#52C9E0\", \"red\"]}}, \"x\": {\"type\": \"nominal\", \"axis\": {\"labelFontSize\": 15, \"title\": null}, \"field\": \"Country,Other\", \"sort\": [\"USA\", \"Italy\", \"Spain\", \"China\", \"Germany\", \"France\", \"Iran\", \"UK\", \"Switzerland\", \"Belgium\"]}, \"y\": {\"type\": \"quantitative\", \"axis\": {\"labelFontSize\": 15, \"title\": \"# of cases\", \"titleFontSize\": 15}, \"field\": \"value\", \"sort\": [\"TotalRecovered\", \"ActiveCases\", \"TotalDeaths\"]}}, \"height\": 400, \"title\": {\"text\": \"Top 10 countries ranked by severity outside China\", \"fontSize\": 20, \"subtitle\": \"There are totally 704259 cases outside China\", \"subtitleFontSize\": 15}, \"width\": 700, \"$schema\": \"https://vega.github.io/schema/vega-lite/v4.0.2.json\", \"datasets\": {\"data-af7956c890dcef41e63cf9a1c0119d45\": [{\"Country,Other\": \"USA\", \"variable\": \"TotalRecovered\", \"value\": 5506.0}, {\"Country,Other\": \"Italy\", \"variable\": \"TotalRecovered\", \"value\": 14620.0}, {\"Country,Other\": \"Spain\", \"variable\": \"TotalRecovered\", \"value\": 16780.0}, {\"Country,Other\": \"Germany\", \"variable\": \"TotalRecovered\", \"value\": 13500.0}, {\"Country,Other\": \"France\", \"variable\": \"TotalRecovered\", \"value\": 7927.0}, {\"Country,Other\": \"Iran\", \"variable\": \"TotalRecovered\", \"value\": 13911.0}, {\"Country,Other\": \"UK\", \"variable\": \"TotalRecovered\", \"value\": 135.0}, {\"Country,Other\": \"Switzerland\", \"variable\": \"TotalRecovered\", \"value\": 1823.0}, {\"Country,Other\": \"Belgium\", \"variable\": \"TotalRecovered\", \"value\": 1527.0}, {\"Country,Other\": \"Netherlands\", \"variable\": \"TotalRecovered\", \"value\": 250.0}, {\"Country,Other\": \"USA\", \"variable\": \"ActiveCases\", \"value\": 155582.0}, {\"Country,Other\": \"Italy\", \"variable\": \"ActiveCases\", \"value\": 75528.0}, {\"Country,Other\": \"Spain\", \"variable\": \"ActiveCases\", \"value\": 63460.0}, {\"Country,Other\": \"Germany\", \"variable\": \"ActiveCases\", \"value\": 52740.0}, {\"Country,Other\": \"France\", \"variable\": \"ActiveCases\", \"value\": 33599.0}, {\"Country,Other\": \"Iran\", \"variable\": \"ActiveCases\", \"value\": 24827.0}, {\"Country,Other\": \"UK\", \"variable\": \"ActiveCases\", \"value\": 20598.0}, {\"Country,Other\": \"Switzerland\", \"variable\": \"ActiveCases\", \"value\": 13740.0}, {\"Country,Other\": \"Belgium\", \"variable\": \"ActiveCases\", \"value\": 9859.0}, {\"Country,Other\": \"Netherlands\", \"variable\": \"ActiveCases\", \"value\": 10636.0}, {\"Country,Other\": \"USA\", \"variable\": \"TotalDeaths\", \"value\": 3165.0}, {\"Country,Other\": \"Italy\", \"variable\": \"TotalDeaths\", \"value\": 11591.0}, {\"Country,Other\": \"Spain\", \"variable\": \"TotalDeaths\", \"value\": 7716.0}, {\"Country,Other\": \"Germany\", \"variable\": \"TotalDeaths\", \"value\": 645.0}, {\"Country,Other\": \"France\", \"variable\": \"TotalDeaths\", \"value\": 3024.0}, {\"Country,Other\": \"Iran\", \"variable\": \"TotalDeaths\", \"value\": 2757.0}, {\"Country,Other\": \"UK\", \"variable\": \"TotalDeaths\", \"value\": 1408.0}, {\"Country,Other\": \"Switzerland\", \"variable\": \"TotalDeaths\", \"value\": 359.0}, {\"Country,Other\": \"Belgium\", \"variable\": \"TotalDeaths\", \"value\": 513.0}, {\"Country,Other\": \"Netherlands\", \"variable\": \"TotalDeaths\", \"value\": 864.0}]}}, {\"mode\": \"vega-lite\"});\n",
       "</script>"
      ],
      "text/plain": [
       "alt.Chart(...)"
      ]
     },
     "execution_count": 26,
     "metadata": {},
     "output_type": "execute_result"
    }
   ],
   "source": [
    "data_2 = data.sort_values(by = 'TotalCases', ascending = False).head(12).iloc[1:12]\n",
    "data_2['index'] = list(range(0,11))\n",
    "data_2.set_index('index', inplace = True)\n",
    "data_2.fillna(value = {'TotalDeaths' : 0}, inplace = True)\n",
    "data_2 = data_2[ ['Country,Other','TotalRecovered', 'ActiveCases', 'TotalDeaths'] ]\n",
    "data_2 = pd.melt(data_2, id_vars = ['Country,Other'])\n",
    "data_2 = data_2[data_2['Country,Other'] != 'China']\n",
    "\n",
    "# ranking list \n",
    "names_c2 = data_2['Country,Other'].to_list()\n",
    "\n",
    "rest = alt.Chart(data_2).mark_bar().encode(\n",
    "    alt.X('Country,Other:N', sort = names_c, axis = alt.Axis(title = None, labelFontSize = 15)),\n",
    "    alt.Y('value:Q',  sort = names, axis = alt.Axis(title = '# of cases', titleFontSize = 15, labelFontSize = 15)),\n",
    "    alt.Color('variable:N', scale = alt.Scale(domain = names, range = colors),\\\n",
    "             legend = alt.Legend(title = 'Type of Cases', titleFontSize = 15, labelFontSize = 15))\n",
    ").properties(\n",
    "width = 700,\n",
    "    height = 400,\n",
    "    title = { 'text' :'Top 10 countries ranked by severity outside China', 'fontSize' : 20, \\\n",
    "             'subtitle' : 'There are totally {0} cases outside China'.format(  int(data.iloc[-1, 1]) -  int(data[ data['Country,Other'] == 'China']['TotalCases']) ),\\\n",
    "             'subtitleFontSize' : 15}\n",
    ")\n",
    "\n",
    "\n",
    "rest"
   ]
  },
  {
   "cell_type": "markdown",
   "metadata": {},
   "source": [
    "As shown in the figure above, the most affected countries are in Europa. And Italy has a very serious situation. "
   ]
  },
  {
   "cell_type": "markdown",
   "metadata": {},
   "source": [
    "## Create a dot map "
   ]
  },
  {
   "cell_type": "markdown",
   "metadata": {},
   "source": [
    "Finally, a dot map which gives information about each province in China was built. Dot map is very useful to convey a particular feature of geographical information. Generally, there are two layers to form the dot map. A map which includes all geographical details of a place is set in the background. Above it, dots which have information about coordinate and the feature were placed. "
   ]
  },
  {
   "cell_type": "code",
   "execution_count": 27,
   "metadata": {},
   "outputs": [],
   "source": [
    "# load the geojon which is actually the map in the background\n",
    "url_json = './asset/china_provinces_geo.geojson'\n",
    "data_geojson_remote = alt.Data(url=url_json)\n",
    "\n",
    "# chart object\n",
    "background = alt.Chart(data_geojson_remote).mark_geoshape(\n",
    "        stroke='black',\n",
    "        strokeWidth=1\n",
    "    ).encode(\n",
    "    ).project('mercator')\n",
    "\n",
    "# read the data of China\n",
    "df_c = pd.read_csv('./asset/time_china_confirmed.csv')\n",
    "df_d = pd.read_csv('./asset/time_china_deaths.csv')\n",
    "df_r = pd.read_csv('./asset/time_china_recovered.csv')\n",
    "\n",
    "# construct  geographical information of the capital of each province in China.\n",
    "coordinate = {'Liaoning' : [123.429092, 41.796768], 'Jilin': [125.324501,43.886841], 'Heilongjiang': [126.642464, 45.756966], \\\n",
    "             'Beijing' : [116.405289, 39.904987], 'Tianjin': [117.190186, 39.125595], 'Inner Mongolia': [111.751990, 40.841490], \\\n",
    "             'Ningxia': [106.232480, 38.486440], 'Shanxi': [112.549248, 37.857014], 'Hebei': [114.502464, 38.045475], \\\n",
    "             'Shandong':[117.000923, 36.675808], 'Henan':[113.665413, 34.757977], 'Shaanxi':[108.948021, 34.263161], \\\n",
    "             'Hubei':[114.298569, 30.584354], 'Jiangsu':[118.76741, 32.041546], 'Anhui':[117.283043, 31.861191], 'Shanghai':[121.472641, 31.231707], \\\n",
    "             'Hunan':[112.982277, 28.19409], 'Jiangxi':[115.892151, 28.676493], 'Zhejiang':[120.15358, 30.287458], 'Fujian':[119.306236, 26.075302], \\\n",
    "             'Guangdong':[113.28064, 23.125177], 'Hainan':[110.199890, 20.044220], 'Guangxi':[108.320007, 22.82402], \\\n",
    "              'Chongqing':[106.504959, 29.533155], 'Yunnan':[102.71225, 25.040609], 'Guizhou':[106.713478, 26.578342], \\\n",
    "             'Sichuan':[104.065735, 30.659462], 'Gansu':[103.834170, 36.061380], 'Qinghai':[101.777820, 36.617290], \\\n",
    "             'Tibet':[91.11450,29.644150], 'Xinjiang':[87.616880, 43.826630], 'Hong Kong':[114.2000, 22.3000]}\n",
    "\n",
    "longitude = []\n",
    "latitude = []\n",
    "recovered = []\n",
    "deaths = []\n",
    "cases = []\n",
    "p_names = []\n",
    "\n",
    "for province in coordinate.keys():\n",
    "    coor = coordinate[province]\n",
    "    \n",
    "    longitude.append(coor[0])\n",
    "    latitude.append(coor[1])\n",
    "    p_names.append(province)\n",
    "    \n",
    "    recovered.append( int(df_r[ df_r['Province/State'] == province].iloc[:, -1]) )\n",
    "    cases.append( int(df_c[ df_c['Province/State'] == province].iloc[:, -1]) )\n",
    "    deaths.append( int(df_d[ df_d['Province/State'] == province].iloc[:, -1]) )\n",
    "    \n",
    "df_china = pd.DataFrame( {'Province': p_names, 'Total Cases': cases, 'Deaths': deaths, 'Recovered': recovered, 'longitude':longitude, 'latitude': latitude} )\n",
    "\n",
    "points = alt.Chart(df_china).mark_circle(\n",
    "    size=70,\n",
    "    color='red'\n",
    ").encode(\n",
    "    longitude='longitude:Q',\n",
    "    latitude='latitude:Q',\n",
    "    tooltip=['Province', 'Total Cases', 'Deaths', 'Recovered']\n",
    ")"
   ]
  },
  {
   "cell_type": "code",
   "execution_count": 28,
   "metadata": {},
   "outputs": [
    {
     "data": {
      "text/html": [
       "\n",
       "<div id=\"altair-viz-b30a7392d2344262bb4202b5502c2b20\"></div>\n",
       "<script type=\"text/javascript\">\n",
       "  (function(spec, embedOpt){\n",
       "    const outputDiv = document.getElementById(\"altair-viz-b30a7392d2344262bb4202b5502c2b20\");\n",
       "    const paths = {\n",
       "      \"vega\": \"https://cdn.jsdelivr.net/npm//vega@5?noext\",\n",
       "      \"vega-lib\": \"https://cdn.jsdelivr.net/npm//vega-lib?noext\",\n",
       "      \"vega-lite\": \"https://cdn.jsdelivr.net/npm//vega-lite@4.0.2?noext\",\n",
       "      \"vega-embed\": \"https://cdn.jsdelivr.net/npm//vega-embed@6?noext\",\n",
       "    };\n",
       "\n",
       "    function loadScript(lib) {\n",
       "      return new Promise(function(resolve, reject) {\n",
       "        var s = document.createElement('script');\n",
       "        s.src = paths[lib];\n",
       "        s.async = true;\n",
       "        s.onload = () => resolve(paths[lib]);\n",
       "        s.onerror = () => reject(`Error loading script: ${paths[lib]}`);\n",
       "        document.getElementsByTagName(\"head\")[0].appendChild(s);\n",
       "      });\n",
       "    }\n",
       "\n",
       "    function showError(err) {\n",
       "      outputDiv.innerHTML = `<div class=\"error\" style=\"color:red;\">${err}</div>`;\n",
       "      throw err;\n",
       "    }\n",
       "\n",
       "    function displayChart(vegaEmbed) {\n",
       "      vegaEmbed(outputDiv, spec, embedOpt)\n",
       "        .catch(err => showError(`Javascript Error: ${err.message}<br>This usually means there's a typo in your chart specification. See the javascript console for the full traceback.`));\n",
       "    }\n",
       "\n",
       "    if(typeof define === \"function\" && define.amd) {\n",
       "      requirejs.config({paths});\n",
       "      require([\"vega-embed\"], displayChart, err => showError(`Error loading script: ${err.message}`));\n",
       "    } else if (typeof vegaEmbed === \"function\") {\n",
       "      displayChart(vegaEmbed);\n",
       "    } else {\n",
       "      loadScript(\"vega\")\n",
       "        .then(() => loadScript(\"vega-lite\"))\n",
       "        .then(() => loadScript(\"vega-embed\"))\n",
       "        .catch(showError)\n",
       "        .then(() => displayChart(vegaEmbed));\n",
       "    }\n",
       "  })({\"config\": {\"view\": {\"continuousWidth\": 400, \"continuousHeight\": 300, \"strokeWidth\": 0}}, \"layer\": [{\"data\": {\"url\": \"./asset/china_provinces_geo.geojson\"}, \"mark\": {\"type\": \"geoshape\", \"stroke\": \"black\", \"strokeWidth\": 1}, \"encoding\": {}, \"projection\": {\"type\": \"mercator\"}}, {\"data\": {\"name\": \"data-caf186071b4dc2017c6e67ef8cb56e39\"}, \"mark\": {\"type\": \"circle\", \"color\": \"red\", \"size\": 70}, \"encoding\": {\"latitude\": {\"field\": \"latitude\", \"type\": \"quantitative\"}, \"longitude\": {\"field\": \"longitude\", \"type\": \"quantitative\"}, \"tooltip\": [{\"type\": \"nominal\", \"field\": \"Province\"}, {\"type\": \"quantitative\", \"field\": \"Total Cases\"}, {\"type\": \"quantitative\", \"field\": \"Deaths\"}, {\"type\": \"quantitative\", \"field\": \"Recovered\"}]}}], \"height\": 500, \"title\": {\"text\": \"The National Report of Mainland China on 23.03\", \"fontSize\": 20, \"orient\": \"top\", \"subtitle\": \"Move to red dots to see the details\"}, \"width\": 500, \"$schema\": \"https://vega.github.io/schema/vega-lite/v4.0.2.json\", \"datasets\": {\"data-caf186071b4dc2017c6e67ef8cb56e39\": [{\"Province\": \"Liaoning\", \"Total Cases\": 127, \"Deaths\": 2, \"Recovered\": 124, \"longitude\": 123.429092, \"latitude\": 41.796768}, {\"Province\": \"Jilin\", \"Total Cases\": 93, \"Deaths\": 1, \"Recovered\": 92, \"longitude\": 125.324501, \"latitude\": 43.886841}, {\"Province\": \"Heilongjiang\", \"Total Cases\": 484, \"Deaths\": 13, \"Recovered\": 465, \"longitude\": 126.642464, \"latitude\": 45.756966}, {\"Province\": \"Beijing\", \"Total Cases\": 522, \"Deaths\": 8, \"Recovered\": 400, \"longitude\": 116.405289, \"latitude\": 39.904987}, {\"Province\": \"Tianjin\", \"Total Cases\": 141, \"Deaths\": 3, \"Recovered\": 133, \"longitude\": 117.190186, \"latitude\": 39.125595}, {\"Province\": \"Inner Mongolia\", \"Total Cases\": 75, \"Deaths\": 1, \"Recovered\": 74, \"longitude\": 111.75199, \"latitude\": 40.84149}, {\"Province\": \"Ningxia\", \"Total Cases\": 75, \"Deaths\": 0, \"Recovered\": 75, \"longitude\": 106.23248, \"latitude\": 38.48644}, {\"Province\": \"Shanxi\", \"Total Cases\": 133, \"Deaths\": 0, \"Recovered\": 133, \"longitude\": 112.549248, \"latitude\": 37.857014}, {\"Province\": \"Hebei\", \"Total Cases\": 319, \"Deaths\": 6, \"Recovered\": 310, \"longitude\": 114.502464, \"latitude\": 38.045475}, {\"Province\": \"Shandong\", \"Total Cases\": 767, \"Deaths\": 7, \"Recovered\": 751, \"longitude\": 117.000923, \"latitude\": 36.675808}, {\"Province\": \"Henan\", \"Total Cases\": 1274, \"Deaths\": 22, \"Recovered\": 1250, \"longitude\": 113.665413, \"latitude\": 34.757977}, {\"Province\": \"Shaanxi\", \"Total Cases\": 248, \"Deaths\": 3, \"Recovered\": 239, \"longitude\": 108.948021, \"latitude\": 34.263161}, {\"Province\": \"Hubei\", \"Total Cases\": 67800, \"Deaths\": 3153, \"Recovered\": 59879, \"longitude\": 114.298569, \"latitude\": 30.584354}, {\"Province\": \"Jiangsu\", \"Total Cases\": 633, \"Deaths\": 0, \"Recovered\": 631, \"longitude\": 118.76741, \"latitude\": 32.041546}, {\"Province\": \"Anhui\", \"Total Cases\": 990, \"Deaths\": 6, \"Recovered\": 984, \"longitude\": 117.283043, \"latitude\": 31.861191}, {\"Province\": \"Shanghai\", \"Total Cases\": 404, \"Deaths\": 4, \"Recovered\": 329, \"longitude\": 121.472641, \"latitude\": 31.231707}, {\"Province\": \"Hunan\", \"Total Cases\": 1018, \"Deaths\": 4, \"Recovered\": 1014, \"longitude\": 112.982277, \"latitude\": 28.19409}, {\"Province\": \"Jiangxi\", \"Total Cases\": 936, \"Deaths\": 1, \"Recovered\": 934, \"longitude\": 115.892151, \"latitude\": 28.676493}, {\"Province\": \"Zhejiang\", \"Total Cases\": 1238, \"Deaths\": 1, \"Recovered\": 1221, \"longitude\": 120.15358, \"latitude\": 30.287458}, {\"Province\": \"Fujian\", \"Total Cases\": 313, \"Deaths\": 1, \"Recovered\": 295, \"longitude\": 119.306236, \"latitude\": 26.075302}, {\"Province\": \"Guangdong\", \"Total Cases\": 1413, \"Deaths\": 8, \"Recovered\": 1332, \"longitude\": 113.28064, \"latitude\": 23.125177}, {\"Province\": \"Hainan\", \"Total Cases\": 168, \"Deaths\": 6, \"Recovered\": 161, \"longitude\": 110.19989, \"latitude\": 20.04422}, {\"Province\": \"Guangxi\", \"Total Cases\": 254, \"Deaths\": 2, \"Recovered\": 250, \"longitude\": 108.320007, \"latitude\": 22.82402}, {\"Province\": \"Chongqing\", \"Total Cases\": 577, \"Deaths\": 6, \"Recovered\": 570, \"longitude\": 106.504959, \"latitude\": 29.533155}, {\"Province\": \"Yunnan\", \"Total Cases\": 176, \"Deaths\": 2, \"Recovered\": 172, \"longitude\": 102.71225, \"latitude\": 25.040609}, {\"Province\": \"Guizhou\", \"Total Cases\": 146, \"Deaths\": 2, \"Recovered\": 144, \"longitude\": 106.713478, \"latitude\": 26.578342}, {\"Province\": \"Sichuan\", \"Total Cases\": 543, \"Deaths\": 3, \"Recovered\": 536, \"longitude\": 104.065735, \"latitude\": 30.659462}, {\"Province\": \"Gansu\", \"Total Cases\": 136, \"Deaths\": 2, \"Recovered\": 114, \"longitude\": 103.83417, \"latitude\": 36.06138}, {\"Province\": \"Qinghai\", \"Total Cases\": 18, \"Deaths\": 0, \"Recovered\": 18, \"longitude\": 101.77782, \"latitude\": 36.61729}, {\"Province\": \"Tibet\", \"Total Cases\": 1, \"Deaths\": 0, \"Recovered\": 1, \"longitude\": 91.1145, \"latitude\": 29.64415}, {\"Province\": \"Xinjiang\", \"Total Cases\": 76, \"Deaths\": 3, \"Recovered\": 73, \"longitude\": 87.61688, \"latitude\": 43.82663}, {\"Province\": \"Hong Kong\", \"Total Cases\": 317, \"Deaths\": 4, \"Recovered\": 100, \"longitude\": 114.2, \"latitude\": 22.3}]}}, {\"mode\": \"vega-lite\"});\n",
       "</script>"
      ],
      "text/plain": [
       "alt.LayerChart(...)"
      ]
     },
     "execution_count": 28,
     "metadata": {},
     "output_type": "execute_result"
    }
   ],
   "source": [
    "(background + points).properties(\n",
    "        width=500,\n",
    "        height=500,\n",
    "        title = {'text' : 'The National Report of Mainland China on 23.03', 'fontSize' : 20, 'orient' : 'top', \\\n",
    "                'subtitle': 'Move to red dots to see the details'}\n",
    "    ).configure_view(strokeWidth = 0)"
   ]
  },
  {
   "cell_type": "markdown",
   "metadata": {},
   "source": [
    "Unlike tables or bar charts, the dot map is more intuitive. "
   ]
  },
  {
   "cell_type": "markdown",
   "metadata": {},
   "source": [
    "## Reference\n",
    "\n",
    "[1] **Andy Kriebel**, Displaying time-series data: Stacked bars, area charts or lines…you decide!, http://www.vizwiz.com/2012/08/displaying-time-series-data-stacked.html\n",
    "\n",
    "[2] France 24, China confirms sharp rise in cases of SARS-like virus across the country, https://www.france24.com/en/20200120-china-confirms-sharp-rise-in-cases-of-sars-like-virus-across-the-country"
   ]
  },
  {
   "cell_type": "markdown",
   "metadata": {},
   "source": [
    "### Adherence to some of Rule et al's rules for computational analyses. You must explicitly describe the rules (aim for 4) you have adhered to in this assignment and provide 2-3 sentences about how you have adhered to these rules. (10%)"
   ]
  },
  {
   "cell_type": "markdown",
   "metadata": {},
   "source": [
    "1. **Tell a story for an audience**: This rule emphasizes the interaction between authors and audiences by showing the audiences not only the codes but also the story behind the data and the process of thoughts of telling the story. The audiences of this notebook are probably the TAs and classmates in this course, so I need to demonstrate the figures in order to give intuitive pictures to audiences.\n",
    "\n",
    "\n",
    "2. **Document the process, not just the results**: This rule emphasizes that the authors should tell audiences how to clean data and how to achieve the results. In this exercise, comments and texts are used to show the audiences how I get the data, clean them and plot them finally.\n",
    "\n",
    "\n",
    "3. **Use cell division**: This rule refers to the well-structured notebook which has high readability. We should try to avoid the cells that contain too many contents. It is better to have only one task (loading data, data cleaning, or plotting) in one cell. In this notebook, there are mainly three parts, and each part includes roughly 4 cells, two for markdowns and two for data cleaning and plotting.\n",
    "\n",
    "\n",
    "9. **Design your notebooks to be read, run, and explored**: This rule asks the authors to ensure that the audiences can access, run, and explore the notebook. Because most data are obtained from the internet, it should be worried that the audiences might not access those data if the given links do not work anymore. Therefore, I save all the data in CSV files and put them in Github with the notebook to avoid the problems of accessing data. "
   ]
  },
  {
   "cell_type": "code",
   "execution_count": null,
   "metadata": {},
   "outputs": [],
   "source": []
  }
 ],
 "metadata": {
  "kernelspec": {
   "display_name": "Python 3",
   "language": "python",
   "name": "python3"
  },
  "language_info": {
   "codemirror_mode": {
    "name": "ipython",
    "version": 3
   },
   "file_extension": ".py",
   "mimetype": "text/x-python",
   "name": "python",
   "nbconvert_exporter": "python",
   "pygments_lexer": "ipython3",
   "version": "3.8.1"
  }
 },
 "nbformat": 4,
 "nbformat_minor": 2
}
